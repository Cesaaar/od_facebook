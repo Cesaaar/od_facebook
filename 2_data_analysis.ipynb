{
 "cells": [
  {
   "cell_type": "code",
   "execution_count": 1,
   "metadata": {
    "collapsed": true
   },
   "outputs": [],
   "source": [
    "import facebook\n",
    "import os\n",
    "import requests\n",
    "import pandas as pd\n",
    "\n",
    "# Leggo Configuration File\n",
    "config = {}\n",
    "config_path = os.path.join(os.environ['HOME'], 'opendata')\n",
    "config_name = 'config.py'\n",
    "config_file = os.path.join(config_path,config_name)\n",
    "exec(open(config_file).read(),config)\n",
    "token=config['TOKEN_FB']\n",
    "\n",
    "# Utilizzo token generoato manualmente con la mia utenza sul Tool di Esplorazioni API Graph\n",
    "graph = facebook.GraphAPI(access_token=token, version='2.7')\n",
    "\n",
    "# Directory di Staging\n",
    "dir_df = os.path.join(os.path.abspath(''),'stg')"
   ]
  },
  {
   "cell_type": "code",
   "execution_count": 11,
   "metadata": {
    "collapsed": false
   },
   "outputs": [],
   "source": [
    "# Recupero tutti i posts di Salvini (ID e Data Creazione)\n",
    "df_filename = r'df_posts_m5s.pkl'\n",
    "df_fullpath = os.path.join(dir_df, df_filename)\n",
    "df_posts = pd.read_pickle(df_fullpath)"
   ]
  },
  {
   "cell_type": "code",
   "execution_count": 12,
   "metadata": {
    "collapsed": false
   },
   "outputs": [
    {
     "data": {
      "text/html": [
       "<div>\n",
       "<table border=\"1\" class=\"dataframe\">\n",
       "  <thead>\n",
       "    <tr style=\"text-align: right;\">\n",
       "      <th></th>\n",
       "      <th>ID</th>\n",
       "      <th>Post_Date</th>\n",
       "    </tr>\n",
       "  </thead>\n",
       "  <tbody>\n",
       "    <tr>\n",
       "      <th>0</th>\n",
       "      <td>174457180812_10151715791785813</td>\n",
       "      <td>2013-07-17T17:20:00+0000</td>\n",
       "    </tr>\n",
       "    <tr>\n",
       "      <th>1</th>\n",
       "      <td>174457180812_10152502294540813</td>\n",
       "      <td>2014-07-22T17:39:19+0000</td>\n",
       "    </tr>\n",
       "    <tr>\n",
       "      <th>2</th>\n",
       "      <td>174457180812_10152000804565813</td>\n",
       "      <td>2013-11-26T16:00:42+0000</td>\n",
       "    </tr>\n",
       "    <tr>\n",
       "      <th>3</th>\n",
       "      <td>174457180812_10152615088325813</td>\n",
       "      <td>2014-09-08T12:14:51+0000</td>\n",
       "    </tr>\n",
       "    <tr>\n",
       "      <th>4</th>\n",
       "      <td>174457180812_10152216213355813</td>\n",
       "      <td>2014-03-08T17:00:24+0000</td>\n",
       "    </tr>\n",
       "  </tbody>\n",
       "</table>\n",
       "</div>"
      ],
      "text/plain": [
       "                               ID                 Post_Date\n",
       "0  174457180812_10151715791785813  2013-07-17T17:20:00+0000\n",
       "1  174457180812_10152502294540813  2014-07-22T17:39:19+0000\n",
       "2  174457180812_10152000804565813  2013-11-26T16:00:42+0000\n",
       "3  174457180812_10152615088325813  2014-09-08T12:14:51+0000\n",
       "4  174457180812_10152216213355813  2014-03-08T17:00:24+0000"
      ]
     },
     "execution_count": 12,
     "metadata": {},
     "output_type": "execute_result"
    }
   ],
   "source": [
    "df_posts.head(5)"
   ]
  },
  {
   "cell_type": "code",
   "execution_count": 13,
   "metadata": {
    "collapsed": false
   },
   "outputs": [],
   "source": [
    "#Esempio di get_likes\n",
    "#graph.get_connections(id='252306033154_10151694974523155', connection_name='likes', summary='true')['summary']['total_count']"
   ]
  },
  {
   "cell_type": "code",
   "execution_count": 14,
   "metadata": {
    "collapsed": false
   },
   "outputs": [],
   "source": [
    "def get_likes(post):\n",
    "    likes = None\n",
    "    try:\n",
    "        likes = graph.get_connections(id=post['ID'], connection_name='likes', summary='true')['summary']['total_count']\n",
    "    except:\n",
    "        likes = None\n",
    "    return likes"
   ]
  },
  {
   "cell_type": "code",
   "execution_count": 15,
   "metadata": {
    "collapsed": false
   },
   "outputs": [],
   "source": [
    "# Molto Lento, impiega ca. 2 ore su 16000 post, va ottimizzato (thread, parallel, etc)\n",
    "df_posts['Likes'] = df_posts.apply(lambda x: get_likes(x), axis=1)"
   ]
  },
  {
   "cell_type": "code",
   "execution_count": 16,
   "metadata": {
    "collapsed": false,
    "scrolled": true
   },
   "outputs": [
    {
     "data": {
      "text/html": [
       "<div>\n",
       "<table border=\"1\" class=\"dataframe\">\n",
       "  <thead>\n",
       "    <tr style=\"text-align: right;\">\n",
       "      <th></th>\n",
       "      <th>ID</th>\n",
       "      <th>Post_Date</th>\n",
       "      <th>Likes</th>\n",
       "    </tr>\n",
       "  </thead>\n",
       "  <tbody>\n",
       "    <tr>\n",
       "      <th>0</th>\n",
       "      <td>174457180812_10151715791785813</td>\n",
       "      <td>2013-07-17T17:20:00+0000</td>\n",
       "      <td>411.0</td>\n",
       "    </tr>\n",
       "    <tr>\n",
       "      <th>1</th>\n",
       "      <td>174457180812_10152502294540813</td>\n",
       "      <td>2014-07-22T17:39:19+0000</td>\n",
       "      <td>57.0</td>\n",
       "    </tr>\n",
       "    <tr>\n",
       "      <th>2</th>\n",
       "      <td>174457180812_10152000804565813</td>\n",
       "      <td>2013-11-26T16:00:42+0000</td>\n",
       "      <td>599.0</td>\n",
       "    </tr>\n",
       "    <tr>\n",
       "      <th>3</th>\n",
       "      <td>174457180812_10152615088325813</td>\n",
       "      <td>2014-09-08T12:14:51+0000</td>\n",
       "      <td>43.0</td>\n",
       "    </tr>\n",
       "    <tr>\n",
       "      <th>4</th>\n",
       "      <td>174457180812_10152216213355813</td>\n",
       "      <td>2014-03-08T17:00:24+0000</td>\n",
       "      <td>111.0</td>\n",
       "    </tr>\n",
       "  </tbody>\n",
       "</table>\n",
       "</div>"
      ],
      "text/plain": [
       "                               ID                 Post_Date  Likes\n",
       "0  174457180812_10151715791785813  2013-07-17T17:20:00+0000  411.0\n",
       "1  174457180812_10152502294540813  2014-07-22T17:39:19+0000   57.0\n",
       "2  174457180812_10152000804565813  2013-11-26T16:00:42+0000  599.0\n",
       "3  174457180812_10152615088325813  2014-09-08T12:14:51+0000   43.0\n",
       "4  174457180812_10152216213355813  2014-03-08T17:00:24+0000  111.0"
      ]
     },
     "execution_count": 16,
     "metadata": {},
     "output_type": "execute_result"
    }
   ],
   "source": [
    "df_posts.head(5)"
   ]
  },
  {
   "cell_type": "code",
   "execution_count": 17,
   "metadata": {
    "collapsed": true
   },
   "outputs": [],
   "source": [
    "# Salvo il DF per non ripetere la Chiamata\n",
    "df_filename = r'df_posts_likes_m5s.pkl'\n",
    "df_fullpath = os.path.join(dir_df, df_filename)\n",
    "df_posts.to_pickle(df_fullpath)"
   ]
  },
  {
   "cell_type": "code",
   "execution_count": null,
   "metadata": {
    "collapsed": true
   },
   "outputs": [],
   "source": []
  }
 ],
 "metadata": {
  "anaconda-cloud": {},
  "kernelspec": {
   "display_name": "Python [conda env:opendata]",
   "language": "python",
   "name": "conda-env-opendata-py"
  },
  "language_info": {
   "codemirror_mode": {
    "name": "ipython",
    "version": 3
   },
   "file_extension": ".py",
   "mimetype": "text/x-python",
   "name": "python",
   "nbconvert_exporter": "python",
   "pygments_lexer": "ipython3",
   "version": "3.5.2"
  }
 },
 "nbformat": 4,
 "nbformat_minor": 1
}
