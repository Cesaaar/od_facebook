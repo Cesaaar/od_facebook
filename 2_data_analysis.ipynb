{
 "cells": [
  {
   "cell_type": "code",
   "execution_count": 1,
   "metadata": {
    "collapsed": true
   },
   "outputs": [],
   "source": [
    "import facebook\n",
    "import os\n",
    "import requests\n",
    "import pandas as pd\n",
    "\n",
    "# Leggo Configuration File\n",
    "config = {}\n",
    "config_path = os.path.join(os.environ['HOME'], 'opendata')\n",
    "config_name = 'config.py'\n",
    "config_file = os.path.join(config_path,config_name)\n",
    "exec(open(config_file).read(),config)\n",
    "token=config['TOKEN_FB']\n",
    "\n",
    "# Utilizzo token generoato manualmente con la mia utenza sul Tool di Esplorazioni API Graph\n",
    "graph = facebook.GraphAPI(access_token=token, version='2.7')\n",
    "\n",
    "# Directory di Staging\n",
    "dir_df = os.path.join(os.path.abspath(''),'stg')"
   ]
  },
  {
   "cell_type": "code",
   "execution_count": 3,
   "metadata": {
    "collapsed": false
   },
   "outputs": [],
   "source": [
    "# Recupero tutti i posts di Salvini (ID e Data Creazione)\n",
    "df_filename = r'df_posts.pkl'\n",
    "df_fullpath = os.path.join(dir_df, df_filename)\n",
    "df_posts = pd.read_pickle(df_fullpath)"
   ]
  },
  {
   "cell_type": "code",
   "execution_count": 4,
   "metadata": {
    "collapsed": false
   },
   "outputs": [
    {
     "data": {
      "text/html": [
       "<div>\n",
       "<table border=\"1\" class=\"dataframe\">\n",
       "  <thead>\n",
       "    <tr style=\"text-align: right;\">\n",
       "      <th></th>\n",
       "      <th>ID</th>\n",
       "      <th>Post_Date</th>\n",
       "    </tr>\n",
       "  </thead>\n",
       "  <tbody>\n",
       "    <tr>\n",
       "      <th>0</th>\n",
       "      <td>252306033154_10151694974523155</td>\n",
       "      <td>2013-09-26T17:54:20+0000</td>\n",
       "    </tr>\n",
       "    <tr>\n",
       "      <th>1</th>\n",
       "      <td>252306033154_10152854711393155</td>\n",
       "      <td>2015-03-29T10:07:10+0000</td>\n",
       "    </tr>\n",
       "    <tr>\n",
       "      <th>2</th>\n",
       "      <td>252306033154_10151493392598155</td>\n",
       "      <td>2013-06-13T08:15:41+0000</td>\n",
       "    </tr>\n",
       "    <tr>\n",
       "      <th>3</th>\n",
       "      <td>252306033154_10151156433468155</td>\n",
       "      <td>2012-12-11T21:57:01+0000</td>\n",
       "    </tr>\n",
       "    <tr>\n",
       "      <th>4</th>\n",
       "      <td>252306033154_10152607210623155</td>\n",
       "      <td>2014-12-21T12:42:02+0000</td>\n",
       "    </tr>\n",
       "  </tbody>\n",
       "</table>\n",
       "</div>"
      ],
      "text/plain": [
       "                               ID                 Post_Date\n",
       "0  252306033154_10151694974523155  2013-09-26T17:54:20+0000\n",
       "1  252306033154_10152854711393155  2015-03-29T10:07:10+0000\n",
       "2  252306033154_10151493392598155  2013-06-13T08:15:41+0000\n",
       "3  252306033154_10151156433468155  2012-12-11T21:57:01+0000\n",
       "4  252306033154_10152607210623155  2014-12-21T12:42:02+0000"
      ]
     },
     "execution_count": 4,
     "metadata": {},
     "output_type": "execute_result"
    }
   ],
   "source": [
    "df_posts.head(5)"
   ]
  },
  {
   "cell_type": "code",
   "execution_count": null,
   "metadata": {
    "collapsed": true
   },
   "outputs": [],
   "source": [
    "# Dai Posts Recupero i LIKES\n",
    "\n",
    "#likes2 = graph.get_connections(id='252306033154_10150649891673155', connection_name='likes', summary='true')['summary']['total_count']\n",
    "#likes2\n",
    "#try:\n",
    "#                a.append(graph.get_connections(id=post['id'], connection_name='likes', summary='true')['summary']['total_count'])\n",
    "#            except:\n",
    "#                a.append(None)"
   ]
  }
 ],
 "metadata": {
  "anaconda-cloud": {},
  "kernelspec": {
   "display_name": "Python [conda env:opendata]",
   "language": "python",
   "name": "conda-env-opendata-py"
  },
  "language_info": {
   "codemirror_mode": {
    "name": "ipython",
    "version": 3
   },
   "file_extension": ".py",
   "mimetype": "text/x-python",
   "name": "python",
   "nbconvert_exporter": "python",
   "pygments_lexer": "ipython3",
   "version": "3.5.2"
  }
 },
 "nbformat": 4,
 "nbformat_minor": 1
}
