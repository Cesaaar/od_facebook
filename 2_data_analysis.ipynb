{
 "cells": [
  {
   "cell_type": "code",
   "execution_count": 1,
   "metadata": {
    "collapsed": true
   },
   "outputs": [],
   "source": [
    "import facebook\n",
    "import os\n",
    "import requests\n",
    "import pandas as pd\n",
    "\n",
    "# Leggo Configuration File\n",
    "config = {}\n",
    "config_path = os.path.join(os.environ['HOME'], 'opendata')\n",
    "config_name = 'config.py'\n",
    "config_file = os.path.join(config_path,config_name)\n",
    "exec(open(config_file).read(),config)\n",
    "token=config['TOKEN_FB']\n",
    "\n",
    "# Utilizzo token generoato manualmente con la mia utenza sul Tool di Esplorazioni API Graph\n",
    "graph = facebook.GraphAPI(access_token=token, version='2.7')\n",
    "\n",
    "# Directory di Staging\n",
    "dir_df = os.path.join(os.path.abspath(''),'stg')"
   ]
  },
  {
   "cell_type": "code",
   "execution_count": 16,
   "metadata": {
    "collapsed": false
   },
   "outputs": [],
   "source": [
    "# Recupero tutti i posts di Salvini (ID e Data Creazione)\n",
    "df_filename = r'df_posts.pkl'\n",
    "df_fullpath = os.path.join(dir_df, df_filename)\n",
    "df_posts = pd.read_pickle(df_fullpath)"
   ]
  },
  {
   "cell_type": "code",
   "execution_count": 3,
   "metadata": {
    "collapsed": false
   },
   "outputs": [
    {
     "data": {
      "text/html": [
       "<div>\n",
       "<table border=\"1\" class=\"dataframe\">\n",
       "  <thead>\n",
       "    <tr style=\"text-align: right;\">\n",
       "      <th></th>\n",
       "      <th>ID</th>\n",
       "      <th>Post_Date</th>\n",
       "    </tr>\n",
       "  </thead>\n",
       "  <tbody>\n",
       "    <tr>\n",
       "      <th>0</th>\n",
       "      <td>252306033154_10151694974523155</td>\n",
       "      <td>2013-09-26T17:54:20+0000</td>\n",
       "    </tr>\n",
       "    <tr>\n",
       "      <th>1</th>\n",
       "      <td>252306033154_10152854711393155</td>\n",
       "      <td>2015-03-29T10:07:10+0000</td>\n",
       "    </tr>\n",
       "    <tr>\n",
       "      <th>2</th>\n",
       "      <td>252306033154_10151493392598155</td>\n",
       "      <td>2013-06-13T08:15:41+0000</td>\n",
       "    </tr>\n",
       "    <tr>\n",
       "      <th>3</th>\n",
       "      <td>252306033154_10151156433468155</td>\n",
       "      <td>2012-12-11T21:57:01+0000</td>\n",
       "    </tr>\n",
       "    <tr>\n",
       "      <th>4</th>\n",
       "      <td>252306033154_10152607210623155</td>\n",
       "      <td>2014-12-21T12:42:02+0000</td>\n",
       "    </tr>\n",
       "  </tbody>\n",
       "</table>\n",
       "</div>"
      ],
      "text/plain": [
       "                               ID                 Post_Date\n",
       "0  252306033154_10151694974523155  2013-09-26T17:54:20+0000\n",
       "1  252306033154_10152854711393155  2015-03-29T10:07:10+0000\n",
       "2  252306033154_10151493392598155  2013-06-13T08:15:41+0000\n",
       "3  252306033154_10151156433468155  2012-12-11T21:57:01+0000\n",
       "4  252306033154_10152607210623155  2014-12-21T12:42:02+0000"
      ]
     },
     "execution_count": 3,
     "metadata": {},
     "output_type": "execute_result"
    }
   ],
   "source": [
    "df_posts.head(5)"
   ]
  },
  {
   "cell_type": "code",
   "execution_count": 30,
   "metadata": {
    "collapsed": false
   },
   "outputs": [
    {
     "data": {
      "text/plain": [
       "1049"
      ]
     },
     "execution_count": 30,
     "metadata": {},
     "output_type": "execute_result"
    }
   ],
   "source": [
    "#Esempio di get_likes\n",
    "#graph.get_connections(id='252306033154_10151694974523155', connection_name='likes', summary='true')['summary']['total_count']"
   ]
  },
  {
   "cell_type": "code",
   "execution_count": 36,
   "metadata": {
    "collapsed": false
   },
   "outputs": [],
   "source": [
    "def get_likes(post):\n",
    "    likes = None\n",
    "    try:\n",
    "        likes = graph.get_connections(id=post['ID'], connection_name='likes', summary='true')['summary']['total_count']\n",
    "    except:\n",
    "        likes = None\n",
    "    return likes"
   ]
  },
  {
   "cell_type": "code",
   "execution_count": 39,
   "metadata": {
    "collapsed": false
   },
   "outputs": [],
   "source": [
    "# Molto Lento, impiega ca. 2 ore su 16000 post, va ottimizzato (thread, parallel, etc)\n",
    "df_posts['Likes'] = df_posts.apply(lambda x: get_likes(x), axis=1)"
   ]
  },
  {
   "cell_type": "code",
   "execution_count": 40,
   "metadata": {
    "collapsed": false,
    "scrolled": true
   },
   "outputs": [
    {
     "data": {
      "text/html": [
       "<div>\n",
       "<table border=\"1\" class=\"dataframe\">\n",
       "  <thead>\n",
       "    <tr style=\"text-align: right;\">\n",
       "      <th></th>\n",
       "      <th>ID</th>\n",
       "      <th>Post_Date</th>\n",
       "      <th>Likes</th>\n",
       "    </tr>\n",
       "  </thead>\n",
       "  <tbody>\n",
       "    <tr>\n",
       "      <th>0</th>\n",
       "      <td>252306033154_10151694974523155</td>\n",
       "      <td>2013-09-26T17:54:20+0000</td>\n",
       "      <td>1049.0</td>\n",
       "    </tr>\n",
       "    <tr>\n",
       "      <th>1</th>\n",
       "      <td>252306033154_10152854711393155</td>\n",
       "      <td>2015-03-29T10:07:10+0000</td>\n",
       "      <td>8093.0</td>\n",
       "    </tr>\n",
       "    <tr>\n",
       "      <th>2</th>\n",
       "      <td>252306033154_10151493392598155</td>\n",
       "      <td>2013-06-13T08:15:41+0000</td>\n",
       "      <td>251.0</td>\n",
       "    </tr>\n",
       "    <tr>\n",
       "      <th>3</th>\n",
       "      <td>252306033154_10151156433468155</td>\n",
       "      <td>2012-12-11T21:57:01+0000</td>\n",
       "      <td>110.0</td>\n",
       "    </tr>\n",
       "    <tr>\n",
       "      <th>4</th>\n",
       "      <td>252306033154_10152607210623155</td>\n",
       "      <td>2014-12-21T12:42:02+0000</td>\n",
       "      <td>5031.0</td>\n",
       "    </tr>\n",
       "  </tbody>\n",
       "</table>\n",
       "</div>"
      ],
      "text/plain": [
       "                               ID                 Post_Date   Likes\n",
       "0  252306033154_10151694974523155  2013-09-26T17:54:20+0000  1049.0\n",
       "1  252306033154_10152854711393155  2015-03-29T10:07:10+0000  8093.0\n",
       "2  252306033154_10151493392598155  2013-06-13T08:15:41+0000   251.0\n",
       "3  252306033154_10151156433468155  2012-12-11T21:57:01+0000   110.0\n",
       "4  252306033154_10152607210623155  2014-12-21T12:42:02+0000  5031.0"
      ]
     },
     "execution_count": 40,
     "metadata": {},
     "output_type": "execute_result"
    }
   ],
   "source": [
    "df_posts.head(5)"
   ]
  },
  {
   "cell_type": "code",
   "execution_count": 41,
   "metadata": {
    "collapsed": true
   },
   "outputs": [],
   "source": [
    "# Salvo il DF per non ripetere la Chiamata\n",
    "df_filename = r'df_posts_likes.pkl'\n",
    "df_fullpath = os.path.join(dir_df, df_filename)\n",
    "df_posts.to_pickle(df_fullpath)"
   ]
  }
 ],
 "metadata": {
  "anaconda-cloud": {},
  "kernelspec": {
   "display_name": "Python [conda env:opendata]",
   "language": "python",
   "name": "conda-env-opendata-py"
  },
  "language_info": {
   "codemirror_mode": {
    "name": "ipython",
    "version": 3
   },
   "file_extension": ".py",
   "mimetype": "text/x-python",
   "name": "python",
   "nbconvert_exporter": "python",
   "pygments_lexer": "ipython3",
   "version": "3.5.2"
  }
 },
 "nbformat": 4,
 "nbformat_minor": 1
}
