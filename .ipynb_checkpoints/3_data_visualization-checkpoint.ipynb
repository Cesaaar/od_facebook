{
 "cells": [
  {
   "cell_type": "markdown",
   "metadata": {},
   "source": [
    "### Visualizzazione Facebook"
   ]
  },
  {
   "cell_type": "code",
   "execution_count": 2,
   "metadata": {
    "collapsed": true
   },
   "outputs": [],
   "source": [
    "import os\n",
    "import pandas as pd"
   ]
  },
  {
   "cell_type": "code",
   "execution_count": 3,
   "metadata": {
    "collapsed": true
   },
   "outputs": [],
   "source": [
    "# Directory di Staging\n",
    "dir_df = os.path.join(os.path.abspath(''),'stg')"
   ]
  },
  {
   "cell_type": "code",
   "execution_count": 4,
   "metadata": {
    "collapsed": false
   },
   "outputs": [],
   "source": [
    "# Recupero il dataset con tutti i post, al data del post e i Like associati\n",
    "df_filename = r'df_posts_likes.pkl'\n",
    "df_fullpath = os.path.join(dir_df, df_filename)\n",
    "df_posts = pd.read_pickle(df_fullpath)"
   ]
  },
  {
   "cell_type": "code",
   "execution_count": 5,
   "metadata": {
    "collapsed": false,
    "scrolled": true
   },
   "outputs": [
    {
     "data": {
      "text/plain": [
       "ID           16007\n",
       "Post_Date    16007\n",
       "Likes         7518\n",
       "dtype: int64"
      ]
     },
     "execution_count": 5,
     "metadata": {},
     "output_type": "execute_result"
    }
   ],
   "source": [
    "# Salvini di 16000 Post, 7500 solo posso leggere i Likes... FB bastardo\n",
    "df_posts.count()"
   ]
  },
  {
   "cell_type": "code",
   "execution_count": 6,
   "metadata": {
    "collapsed": false
   },
   "outputs": [
    {
     "data": {
      "text/html": [
       "<div>\n",
       "<table border=\"1\" class=\"dataframe\">\n",
       "  <thead>\n",
       "    <tr style=\"text-align: right;\">\n",
       "      <th></th>\n",
       "      <th>ID</th>\n",
       "      <th>Post_Date</th>\n",
       "      <th>Likes</th>\n",
       "    </tr>\n",
       "  </thead>\n",
       "  <tbody>\n",
       "    <tr>\n",
       "      <th>0</th>\n",
       "      <td>252306033154_10151694974523155</td>\n",
       "      <td>2013-09-26T17:54:20+0000</td>\n",
       "      <td>1049.0</td>\n",
       "    </tr>\n",
       "    <tr>\n",
       "      <th>1</th>\n",
       "      <td>252306033154_10152854711393155</td>\n",
       "      <td>2015-03-29T10:07:10+0000</td>\n",
       "      <td>8093.0</td>\n",
       "    </tr>\n",
       "    <tr>\n",
       "      <th>2</th>\n",
       "      <td>252306033154_10151493392598155</td>\n",
       "      <td>2013-06-13T08:15:41+0000</td>\n",
       "      <td>251.0</td>\n",
       "    </tr>\n",
       "    <tr>\n",
       "      <th>3</th>\n",
       "      <td>252306033154_10151156433468155</td>\n",
       "      <td>2012-12-11T21:57:01+0000</td>\n",
       "      <td>110.0</td>\n",
       "    </tr>\n",
       "    <tr>\n",
       "      <th>4</th>\n",
       "      <td>252306033154_10152607210623155</td>\n",
       "      <td>2014-12-21T12:42:02+0000</td>\n",
       "      <td>5031.0</td>\n",
       "    </tr>\n",
       "    <tr>\n",
       "      <th>5</th>\n",
       "      <td>252306033154_10151480845073155</td>\n",
       "      <td>2013-06-06T12:53:53+0000</td>\n",
       "      <td>642.0</td>\n",
       "    </tr>\n",
       "    <tr>\n",
       "      <th>6</th>\n",
       "      <td>252306033154_10150586774563155</td>\n",
       "      <td>2012-03-08T20:46:30+0000</td>\n",
       "      <td>97.0</td>\n",
       "    </tr>\n",
       "    <tr>\n",
       "      <th>7</th>\n",
       "      <td>252306033154_10153351751498155</td>\n",
       "      <td>2015-11-01T14:28:17+0000</td>\n",
       "      <td>2067.0</td>\n",
       "    </tr>\n",
       "    <tr>\n",
       "      <th>8</th>\n",
       "      <td>252306033154_10153704560268155</td>\n",
       "      <td>2016-04-12T16:54:41+0000</td>\n",
       "      <td>10550.0</td>\n",
       "    </tr>\n",
       "    <tr>\n",
       "      <th>9</th>\n",
       "      <td>252306033154_10152106462493155</td>\n",
       "      <td>2014-04-28T18:49:04+0000</td>\n",
       "      <td>984.0</td>\n",
       "    </tr>\n",
       "  </tbody>\n",
       "</table>\n",
       "</div>"
      ],
      "text/plain": [
       "                               ID                 Post_Date    Likes\n",
       "0  252306033154_10151694974523155  2013-09-26T17:54:20+0000   1049.0\n",
       "1  252306033154_10152854711393155  2015-03-29T10:07:10+0000   8093.0\n",
       "2  252306033154_10151493392598155  2013-06-13T08:15:41+0000    251.0\n",
       "3  252306033154_10151156433468155  2012-12-11T21:57:01+0000    110.0\n",
       "4  252306033154_10152607210623155  2014-12-21T12:42:02+0000   5031.0\n",
       "5  252306033154_10151480845073155  2013-06-06T12:53:53+0000    642.0\n",
       "6  252306033154_10150586774563155  2012-03-08T20:46:30+0000     97.0\n",
       "7  252306033154_10153351751498155  2015-11-01T14:28:17+0000   2067.0\n",
       "8  252306033154_10153704560268155  2016-04-12T16:54:41+0000  10550.0\n",
       "9  252306033154_10152106462493155  2014-04-28T18:49:04+0000    984.0"
      ]
     },
     "execution_count": 6,
     "metadata": {},
     "output_type": "execute_result"
    }
   ],
   "source": [
    "df_posts.head(10)"
   ]
  }
 ],
 "metadata": {
  "anaconda-cloud": {},
  "kernelspec": {
   "display_name": "Python [conda env:opendata]",
   "language": "python",
   "name": "conda-env-opendata-py"
  },
  "language_info": {
   "codemirror_mode": {
    "name": "ipython",
    "version": 3
   },
   "file_extension": ".py",
   "mimetype": "text/x-python",
   "name": "python",
   "nbconvert_exporter": "python",
   "pygments_lexer": "ipython3",
   "version": "3.5.2"
  }
 },
 "nbformat": 4,
 "nbformat_minor": 1
}
