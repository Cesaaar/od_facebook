{
 "cells": [
  {
   "cell_type": "markdown",
   "metadata": {},
   "source": [
    "### Analisi Dati Facebook\n",
    "\n",
    "1. pip install facebook-sdk: https://github.com/mobolic/facebook-sdk, https://facebook-sdk.readthedocs.io/en/latest/\n",
    "    \n",
    "2. Tool di Esplorazioni API Graph: https://developers.facebook.com/tools/explorer/145634995501895/#_=_\n",
    "    \n",
    "3. ID Pagina Facebook: http://findmyfbid.com/"
   ]
  },
  {
   "cell_type": "code",
   "execution_count": 4,
   "metadata": {
    "collapsed": false
   },
   "outputs": [],
   "source": [
    "import facebook\n",
    "import os\n",
    "import requests\n",
    "\n",
    "# Leggo Configuration File\n",
    "config = {}\n",
    "config_path = os.path.join(os.environ['HOME'], 'opendata')\n",
    "config_name = 'config.py'\n",
    "config_file = os.path.join(config_path,config_name)\n",
    "exec(open(config_file).read(),config)\n",
    "token=config['TOKEN_FB']\n",
    "\n",
    "# Utilizzo token generoato manualmente con la mia utenza sul Tool di Esplorazioni API Graph\n",
    "graph = facebook.GraphAPI(access_token=token, version='2.7')"
   ]
  },
  {
   "cell_type": "code",
   "execution_count": 5,
   "metadata": {
    "collapsed": false
   },
   "outputs": [
    {
     "data": {
      "text/plain": [
       "{'id': '10153605453803372', 'name': 'Andrea Cesarini'}"
      ]
     },
     "execution_count": 5,
     "metadata": {},
     "output_type": "execute_result"
    }
   ],
   "source": [
    "# TEST\n",
    "\n",
    "# Esempio di chiamata su Tool Esplorazione: me?fields=id,name -> Result è un Dict (casomai Dataframe Pandas)\n",
    "info = graph.get_object(id='me')\n",
    "info"
   ]
  },
  {
   "cell_type": "code",
   "execution_count": 6,
   "metadata": {
    "collapsed": false
   },
   "outputs": [],
   "source": [
    "# PAGINA FACEBOOK\n",
    "\n",
    "# Recupero ID della Pagina di Salvini (https://www.facebook.com/salviniofficial/?fref=ts) da findmyfbid \n",
    "# Esempio di chiamata: 252306033154?fields=id,name,birthday\n",
    "info_s = graph.get_object(id='252306033154', fields='name,fan_count,posts')"
   ]
  },
  {
   "cell_type": "code",
   "execution_count": 7,
   "metadata": {
    "collapsed": false
   },
   "outputs": [
    {
     "data": {
      "text/plain": [
       "1694775"
      ]
     },
     "execution_count": 7,
     "metadata": {},
     "output_type": "execute_result"
    }
   ],
   "source": [
    "# NUMERO FAN\n",
    "\n",
    "# Recupero il numero di Fan (sono quelli che mettono mi piace, non è detto che siano quelli che lo seguono in\n",
    "# quanto uno mette mi piace anche solo per seguirlo)\n",
    "num_fan = info_s['fan_count']\n",
    "num_fan"
   ]
  },
  {
   "cell_type": "code",
   "execution_count": 29,
   "metadata": {
    "collapsed": false
   },
   "outputs": [
    {
     "data": {
      "text/plain": [
       "'252306033154_10154348485508155'"
      ]
     },
     "execution_count": 29,
     "metadata": {},
     "output_type": "execute_result"
    }
   ],
   "source": [
    "# ULTIMO POST PUBBLICATO\n",
    "\n",
    "# Recupero id dell'ultimo post pubblicato (intreccio di Dict e List) -> Per ora analizzo il penultimo post\n",
    "id_post = info_s['posts']['data'][1]['id']\n",
    "id_post"
   ]
  },
  {
   "cell_type": "code",
   "execution_count": 30,
   "metadata": {
    "collapsed": false,
    "scrolled": true
   },
   "outputs": [
    {
     "data": {
      "text/plain": [
       "{'id': '252306033154_10154348485508155',\n",
       " 'message': 'Immigrati oggi in piazza: \"Vogliamo soldi e non vogliamo confini\".\\n#aveterottolepalle'}"
      ]
     },
     "execution_count": 30,
     "metadata": {},
     "output_type": "execute_result"
    }
   ],
   "source": [
    "# DETTAGLI POST\n",
    "post_mess = graph.get_object(id=id_post, fields='message')\n",
    "post_mess"
   ]
  },
  {
   "cell_type": "code",
   "execution_count": 31,
   "metadata": {
    "collapsed": false
   },
   "outputs": [
    {
     "data": {
      "text/plain": [
       "2444"
      ]
     },
     "execution_count": 31,
     "metadata": {},
     "output_type": "execute_result"
    }
   ],
   "source": [
    "# CHI METTE MI PIACE AI POST DI SALVINI\n",
    "\n",
    "likes = graph.get_connections(id=id_post, connection_name='likes')\n",
    "\n",
    "# Creo lista con gli ID di tutti quelli che hanno messo mi piace al post\n",
    "all_likes = []\n",
    "while(True):\n",
    "    try:\n",
    "        for like in likes['data']:\n",
    "            #Recupero chi mette like\n",
    "            all_likes.append(like['id'])\n",
    "        likes=requests.get(likes['paging']['next']).json()\n",
    "    except KeyError:\n",
    "        break\n",
    "len(all_likes)"
   ]
  },
  {
   "cell_type": "markdown",
   "metadata": {},
   "source": [
    "### Con immensa tristezza, non si possono analizzare i dati pubblici delle persone che hanno messo like ai post (es. sesso, distr geografica, educazione). Si può leggere solo il Totale dei likes"
   ]
  },
  {
   "cell_type": "markdown",
   "metadata": {},
   "source": [
    "# 1. Distribuzione likes ai posts in base alla data dei post (aggregati per anno / mese)\n",
    "## Crescita social delle pagine politiche -> In base alla data, legarle ad avvenimenti"
   ]
  },
  {
   "cell_type": "code",
   "execution_count": 43,
   "metadata": {
    "collapsed": false
   },
   "outputs": [
    {
     "data": {
      "text/plain": [
       "{'fan_count': 1694775,\n",
       " 'id': '252306033154',\n",
       " 'name': 'Matteo Salvini',\n",
       " 'posts': {'data': [{'created_time': '2016-12-18T19:46:07+0000',\n",
       "    'id': '252306033154_10154348697478155',\n",
       "    'message': 'Mia intervista di stamane al \"Giornale di Sicilia\". Sovranità monetaria, difesa dei confini, stop agli euroidioti che distruggono pesca, agricoltura e lavoro, e la Sicilia tornerà ad essere una capitale mondiale del turismo, dell’arte, della cultura, del made in Italy, non l\\'isola dei clandestini!'},\n",
       "   {'created_time': '2016-12-18T18:05:00+0000',\n",
       "    'id': '252306033154_10154348485508155',\n",
       "    'message': 'Immigrati oggi in piazza: \"Vogliamo soldi e non vogliamo confini\".\\n#aveterottolepalle'},\n",
       "   {'created_time': '2016-12-18T16:34:54+0000',\n",
       "    'id': '252306033154_10154348370848155',\n",
       "    'message': 'La Boldrini: \"Senza migranti Italia piena di anziani senza pensione\".\\nMa ancora parla? #boldriniclandestina'},\n",
       "   {'created_time': '2016-12-18T12:37:09+0000',\n",
       "    'id': '252306033154_10154347886543155',\n",
       "    'message': 'Mentre gli altri litigano, noi costruiamo! GRAZIE per la straordinaria partecipazione, siete già quasi in 15.000 ad aver firmato! Avanti così, INSIEME si può! #votosubito'},\n",
       "   {'created_time': '2016-12-18T11:12:05+0000',\n",
       "    'id': '252306033154_10154347751523155',\n",
       "    'message': 'Siete contrari al burqa?\\nAttenti, la Boldrini potrebbe accusarvi di islamofobia...'},\n",
       "   {'created_time': '2016-12-18T08:24:27+0000',\n",
       "    'id': '252306033154_10154347477423155',\n",
       "    'message': 'Palermo, sole e 15 gradi.\\nMi sa che invece a Milano trovo freddo e nebbia... Amen!'},\n",
       "   {'created_time': '2016-12-18T07:53:22+0000',\n",
       "    'id': '252306033154_10154347422193155',\n",
       "    'message': 'Buona domenica Amici, Palermo si risveglia con il sole.\\nAlle 12 aspetto, chi vorrà, al gazebo Lega di viale Suzzani a Milano.\\nAstenersi Alfani, Boldrine e perditempo.'},\n",
       "   {'created_time': '2016-12-17T17:03:16+0000',\n",
       "    'id': '252306033154_10154345805043155',\n",
       "    'message': 'Spremuta di melograno e agrumi (siciliani!) al Santuario di Santa Rosalia.\\nAlla faccia delle assurde direttive europee e degli interessi delle multinazionali, mangiamo e beviamo i frutti della nostra terra!'},\n",
       "   {'created_time': '2016-12-17T15:49:31+0000',\n",
       "    'id': '252306033154_10154345681703155',\n",
       "    'message': 'Quanto tempo ci impieghiamo ad arrivare a DIECIMILA??? Firmate su www.votosubito.org (e PASSAPAROLA!)'},\n",
       "   {'created_time': '2016-12-17T14:31:45+0000',\n",
       "    'id': '252306033154_10154345553063155',\n",
       "    'message': 'Presepe nella splendida Cattedrale di Palermo, dedicato a chi si vergogna o si dimentica della nostra Storia e delle nostre Tradizioni.\\nUn popolo senza radici è un popolo senza futuro.'},\n",
       "   {'created_time': '2016-12-17T11:59:54+0000',\n",
       "    'id': '252306033154_10154345245533155',\n",
       "    'message': \"Un GRAZIE a chi oggi e domani è impegnato nelle centinaia di gazebo #votosubito organizzati in tutta Italia: c'è VOGLIA di votare, di decidere, di riprenderci la nostra sovranità e il nostro Futuro!\\nPotete sottoscrivere anche online sul sito: WWW.VOTOSUBITO.ORG, lo avete già fatto in tantissimi! Avanti tutta!\"},\n",
       "   {'created_time': '2016-12-17T11:01:49+0000',\n",
       "    'id': '252306033154_10154345133288155',\n",
       "    'message': 'Scuole elementari di Pontevico (Brescia).\\nPer scelta della \"dirigente scolastica\" Paola Bellini quest\\'anno non ci sarà una Festa di Natale ma una \"festa per la pace\", senza Gesù Bambino nei canti, per \"una questione di rispetto\" per gli studenti stranieri.\\nSiamo alla FOLLIA! Genitori, su la testa!\\nP.s. Chissà se questi \"educatori\" rinunceranno alle ferie di Natale...'},\n",
       "   {'created_time': '2016-12-17T10:06:48+0000',\n",
       "    'id': '252306033154_10154345066158155',\n",
       "    'message': \"Omaggio al monumento in ricordo di Falcone.\\nGRAZIE e su la testa, la Sicilia e l'Italia non si arrendono, mai!\"},\n",
       "   {'created_time': '2016-12-16T19:36:22+0000',\n",
       "    'id': '252306033154_10154343493218155',\n",
       "    'message': \"Incredibile, siete tantissimi a voler firmare, il sito ha problemi a starvi dietro. Un po' di pazienza e ce la farete tutti! #votosubito\"},\n",
       "   {'created_time': '2016-12-16T18:22:46+0000',\n",
       "    'id': '252306033154_10154343378008155',\n",
       "    'message': 'SOTTOSCRIVI anche tu! #votosubito\\nPuoi farlo online su VOTOSUBITO.ORG (funzione IN ATTIVAZIONE, al momento sospesa) oppure domani e domenica in centinaia di piazze in tutta Italia! (Elenco gazebo qui: votosubito.org/gazebo)'},\n",
       "   {'created_time': '2016-12-16T15:41:55+0000',\n",
       "    'id': '252306033154_10154343053578155',\n",
       "    'message': 'I \"migranti\" prendono il posto dei pazienti... Follia!!!'},\n",
       "   {'created_time': '2016-12-16T13:40:36+0000',\n",
       "    'id': '252306033154_10154342412943155',\n",
       "    'message': 'Con duecento euro spesi in Africa si adotta un bambino per un anno. \\nCon duecento euro spesi in Italia si mantiene un adulto nullafacente per una settimana, e poi se non gli dai sigarette e ricarica del telefonino si incazza pure! #votosubito'},\n",
       "   {'created_time': '2016-12-16T11:00:42+0000',\n",
       "    'id': '252306033154_10154342382438155',\n",
       "    'message': \"Qualche minuto insieme a voi! P.s. Anche quest'anno alcune scuole non festeggiano il Natale ed espellono Gesù Bambino, pazzesco...\",\n",
       "    'story': 'Matteo Salvini was live.'},\n",
       "   {'created_time': '2016-12-16T07:47:51+0000',\n",
       "    'id': '252306033154_10154342163598155',\n",
       "    'message': 'Arrestato per corruzione Marra, capo del Personale e fedelissimo del sindaco di Roma Raggi, 5stelle.\\nIndagato per falso su appalti Expo Sala, sindaco PD di Milano.\\nBuona giornata Amici.......'},\n",
       "   {'created_time': '2016-12-15T17:29:17+0000',\n",
       "    'id': '252306033154_10154340386503155',\n",
       "    'message': 'Sabato e domenica in centinaia di piazze da Nord a Sud! Vieni a firmare anche tu! #votosubito\\nP.s. da venerdì sera troverete elenchi di luoghi e orari dei gazebo su: VOTOSUBITO.ORG',\n",
       "    'story': 'Matteo Salvini updated their cover photo.'},\n",
       "   {'created_time': '2016-12-15T12:09:52+0000',\n",
       "    'id': '252306033154_10154339690553155',\n",
       "    'message': 'Ancora vandali contro una sede della Lega, questa volta a Cremona. Pensano di farci paura? Ci fanno PENA.\\nP.s. Se ne becco uno, deve cominciare a correre.'},\n",
       "   {'created_time': '2016-12-15T10:11:41+0000',\n",
       "    'id': '252306033154_10154339530048155',\n",
       "    'message': '4,6 milioni di italiani sotto la soglia di POVERTÀ e debito pubblico che sale a 2.223 miliardi di euro. E la risposta è Gentiloni???\\n#votosubito io sono pronto a far ripartire questo Paese.'},\n",
       "   {'created_time': '2016-12-14T18:52:24+0000',\n",
       "    'id': '252306033154_10154337631873155',\n",
       "    'message': 'Auguri cucciola! Nata con la neve, bella come il sole.'},\n",
       "   {'created_time': '2016-12-14T17:56:32+0000',\n",
       "    'id': '252306033154_10154336452733155',\n",
       "    'message': \"L'Euro è una moneta FALLITA, sbagliata, da rottamare.\\n E senza una moneta giusta, nostra, non andiamo da nessuna parte! #votosubito\"},\n",
       "   {'created_time': '2016-12-14T16:14:59+0000',\n",
       "    'id': '252306033154_10154337336023155',\n",
       "    'message': \"Mentre il governo dorme, l'Italia perde pezzi. #votosubito\"}],\n",
       "  'paging': {'next': 'https://graph.facebook.com/v2.7/252306033154/posts?access_token=EAACEdEose0cBAAKNEZAGKr6jidxfi5enIcZBkzjkbTSj87lzv5Joell68ZCGmzYZBLBJNUbBZBHwIHqEUuoHVk4G2OR3DBQBZC3ATB0K6ohRa3GAXH36VWicrgP70adUrogmew7pwOkq4olTKFzhB0a6cZCZAtf7MQ7mFOXIEmZCP9QZDZD&limit=25&until=1481732099&__paging_token=enc_AdA62FQqHZA9uwaRTKeHP0AoGK25isXRWQPIAQtCl0sxKdaEnp6e9amvzJCeS3qMWS9r0mZCRr3PsxEC9boFNcsl6Unwb3FiUWqJp73J2ZCZAfLPeAZDZD',\n",
       "   'previous': 'https://graph.facebook.com/v2.7/252306033154/posts?since=1482090367&access_token=EAACEdEose0cBAAKNEZAGKr6jidxfi5enIcZBkzjkbTSj87lzv5Joell68ZCGmzYZBLBJNUbBZBHwIHqEUuoHVk4G2OR3DBQBZC3ATB0K6ohRa3GAXH36VWicrgP70adUrogmew7pwOkq4olTKFzhB0a6cZCZAtf7MQ7mFOXIEmZCP9QZDZD&limit=25&__paging_token=enc_AdALpgCs7EKBkb4ZAuiq1LgZB8ehTdrTm1AuNEL1axc0xUnuHZAZBjummewBE8Bzz305ZAltgHvA7wWqSSkWwU5qh1tKgOZCdUjun4VdrtBfdv0gk8fgZDZD&__previous=1'}}}"
      ]
     },
     "execution_count": 43,
     "metadata": {},
     "output_type": "execute_result"
    }
   ],
   "source": [
    "info_s"
   ]
  },
  {
   "cell_type": "markdown",
   "metadata": {},
   "source": [
    "# 2. Sentiment Analysis sui Commenti dei Post - Pros vs Cons (DOPO..)\n",
    "con occhio all'ironia"
   ]
  },
  {
   "cell_type": "code",
   "execution_count": 41,
   "metadata": {
    "collapsed": false,
    "scrolled": true
   },
   "outputs": [],
   "source": [
    "# COMMENTI POST\n",
    "commenti = graph.get_connections(id=id_post, connection_name='comments')"
   ]
  },
  {
   "cell_type": "code",
   "execution_count": 42,
   "metadata": {
    "collapsed": false
   },
   "outputs": [
    {
     "data": {
      "text/plain": [
       "957"
      ]
     },
     "execution_count": 42,
     "metadata": {},
     "output_type": "execute_result"
    }
   ],
   "source": [
    "# TUTTI GLI ID DELLE PERSONE CHE HANNO COMMENTATO\n",
    "allcommenti = []\n",
    "while(True):\n",
    "    try:\n",
    "        for commento in commenti['data']:\n",
    "            #Recupero chi commenta (posso recuperare anche il commento)\n",
    "            #Sentiment analysis chi commenta e come commenta distributo geograficamente tra positivi e negativi\n",
    "            allcommenti.append(commento['from'])\n",
    "        commenti=requests.get(commenti['paging']['next']).json()\n",
    "    except KeyError:\n",
    "        break\n",
    "len(allcommenti)"
   ]
  },
  {
   "cell_type": "code",
   "execution_count": null,
   "metadata": {
    "collapsed": true
   },
   "outputs": [],
   "source": []
  }
 ],
 "metadata": {
  "anaconda-cloud": {},
  "kernelspec": {
   "display_name": "Python [conda env:opendata]",
   "language": "python",
   "name": "conda-env-opendata-py"
  },
  "language_info": {
   "codemirror_mode": {
    "name": "ipython",
    "version": 3
   },
   "file_extension": ".py",
   "mimetype": "text/x-python",
   "name": "python",
   "nbconvert_exporter": "python",
   "pygments_lexer": "ipython3",
   "version": "3.5.2"
  }
 },
 "nbformat": 4,
 "nbformat_minor": 1
}
