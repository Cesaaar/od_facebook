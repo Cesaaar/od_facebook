{
 "cells": [
  {
   "cell_type": "markdown",
   "metadata": {},
   "source": [
    "### Analisi Dati Facebook\n",
    "\n",
    "1. pip install facebook-sdk: https://github.com/mobolic/facebook-sdk, https://facebook-sdk.readthedocs.io/en/latest/\n",
    "    \n",
    "2. Tool di Esplorazioni API Graph: https://developers.facebook.com/tools/explorer/145634995501895/#_=_\n",
    "    \n",
    "3. ID Pagina Facebook: http://findmyfbid.com/"
   ]
  },
  {
   "cell_type": "code",
   "execution_count": 35,
   "metadata": {
    "collapsed": false
   },
   "outputs": [],
   "source": [
    "import facebook\n",
    "import os\n",
    "import requests\n",
    "\n",
    "# Leggo Configuration File\n",
    "config = {}\n",
    "config_path = os.path.join(os.environ['HOME'], 'opendata')\n",
    "config_name = 'config.py'\n",
    "config_file = os.path.join(config_path,config_name)\n",
    "exec(open(config_file).read(),config)\n",
    "token=config['TOKEN_FB']\n",
    "\n",
    "# Utilizzo token generoato manualmente con la mia utenza sul Tool di Esplorazioni API Graph\n",
    "graph = facebook.GraphAPI(access_token=token, version='2.7')"
   ]
  },
  {
   "cell_type": "code",
   "execution_count": 19,
   "metadata": {
    "collapsed": false
   },
   "outputs": [
    {
     "name": "stdout",
     "output_type": "stream",
     "text": [
      "{'name': 'Andrea Cesarini', 'id': '10153605453803372'}\n"
     ]
    }
   ],
   "source": [
    "# TEST\n",
    "\n",
    "# Esempio di chiamata su Tool Esplorazione: me?fields=id,name -> Result è un Dict (casomai Dataframe Pandas)\n",
    "info = graph.get_object(id='me')\n",
    "print(info)"
   ]
  },
  {
   "cell_type": "code",
   "execution_count": 20,
   "metadata": {
    "collapsed": false
   },
   "outputs": [],
   "source": [
    "# PAGINA FACEBOOK\n",
    "\n",
    "# Recupero ID della Pagina di Salvini (https://www.facebook.com/salviniofficial/?fref=ts) da findmyfbid \n",
    "# Esempio di chiamata: 252306033154?fields=id,name,birthday\n",
    "info_s = graph.get_object(id='252306033154', fields='name,fan_count,posts')"
   ]
  },
  {
   "cell_type": "code",
   "execution_count": 21,
   "metadata": {
    "collapsed": false
   },
   "outputs": [
    {
     "data": {
      "text/plain": [
       "1694654"
      ]
     },
     "execution_count": 21,
     "metadata": {},
     "output_type": "execute_result"
    }
   ],
   "source": [
    "# NUMERO FAN\n",
    "\n",
    "# Recupero il numero di Fan (sono quelli che mettono mi piace, non è detto che siano quelli che lo seguono in\n",
    "# quanto uno mette mi piace anche solo per seguirlo)\n",
    "num_fan = info_s['fan_count']\n",
    "num_fan"
   ]
  },
  {
   "cell_type": "code",
   "execution_count": 29,
   "metadata": {
    "collapsed": false
   },
   "outputs": [
    {
     "data": {
      "text/plain": [
       "'252306033154_10154348370848155'"
      ]
     },
     "execution_count": 29,
     "metadata": {},
     "output_type": "execute_result"
    }
   ],
   "source": [
    "# ULTIMO POST PUBBLICATO\n",
    "\n",
    "# Recupero id dell'ultimo post pubblicato (intreccio di Dict e List) -> Per ora analizzo solo ultimo post\n",
    "id_post = info_s['posts']['data'][0]['id']\n",
    "id_post"
   ]
  },
  {
   "cell_type": "code",
   "execution_count": 30,
   "metadata": {
    "collapsed": false,
    "scrolled": true
   },
   "outputs": [
    {
     "data": {
      "text/plain": [
       "{'created_time': '2016-12-18T16:34:54+0000',\n",
       " 'id': '252306033154_10154348370848155',\n",
       " 'message': 'La Boldrini: \"Senza migranti Italia piena di anziani senza pensione\".\\nMa ancora parla? #boldriniclandestina'}"
      ]
     },
     "execution_count": 30,
     "metadata": {},
     "output_type": "execute_result"
    }
   ],
   "source": [
    "# DETTAGLI POST\n",
    "post = graph.get_object(id=id_post, fields='created_time, message')\n",
    "post"
   ]
  },
  {
   "cell_type": "code",
   "execution_count": null,
   "metadata": {
    "collapsed": true
   },
   "outputs": [],
   "source": [
    "# Chi mette mi piace ai Post di Salvini ? (confronto con Renzi e MS5)"
   ]
  },
  {
   "cell_type": "markdown",
   "metadata": {},
   "source": [
    "### Chi commenta e analisi sui Commenti STAND BY -> Uso Sentiment Analysis"
   ]
  },
  {
   "cell_type": "code",
   "execution_count": 52,
   "metadata": {
    "collapsed": false,
    "scrolled": true
   },
   "outputs": [],
   "source": [
    "\n",
    "# COMMENTI POST (Stand by, lo utilizzo per Sentiment Analysis)\n",
    "# Problema, mostra solo gli ultimi e nell'ultima posizione 'next' la url per recuperare gli altri\n",
    "commenti = graph.get_connections(id=id_post, connection_name='comments')"
   ]
  },
  {
   "cell_type": "code",
   "execution_count": 53,
   "metadata": {
    "collapsed": false
   },
   "outputs": [
    {
     "data": {
      "text/plain": [
       "699"
      ]
     },
     "execution_count": 53,
     "metadata": {},
     "output_type": "execute_result"
    }
   ],
   "source": [
    "# TUTTI GLI ID DELLE PERSONE CHE HANNO COMMENTATO\n",
    "allcommenti = []\n",
    "while(True):\n",
    "    try:\n",
    "        for commento in commenti['data']:\n",
    "            #Recupero chi commenta (posso recuperare anche il commento)\n",
    "            #Sentiment analysis chi commenta e come commenta distributo geograficamente tra positivi e negativi\n",
    "            allcommenti.append(commento['from'])\n",
    "        commenti=requests.get(commenti['paging']['next']).json()\n",
    "    except KeyError:\n",
    "        break\n",
    "len(allcommenti)"
   ]
  },
  {
   "cell_type": "code",
   "execution_count": null,
   "metadata": {
    "collapsed": true
   },
   "outputs": [],
   "source": []
  }
 ],
 "metadata": {
  "anaconda-cloud": {},
  "kernelspec": {
   "display_name": "Python [conda env:opendata]",
   "language": "python",
   "name": "conda-env-opendata-py"
  },
  "language_info": {
   "codemirror_mode": {
    "name": "ipython",
    "version": 3
   },
   "file_extension": ".py",
   "mimetype": "text/x-python",
   "name": "python",
   "nbconvert_exporter": "python",
   "pygments_lexer": "ipython3",
   "version": "3.5.2"
  }
 },
 "nbformat": 4,
 "nbformat_minor": 1
}
