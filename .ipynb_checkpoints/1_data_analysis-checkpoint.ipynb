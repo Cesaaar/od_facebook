{
 "cells": [
  {
   "cell_type": "markdown",
   "metadata": {},
   "source": [
    "### Analisi Dati Facebook\n",
    "\n",
    "1. pip install facebook-sdk: https://github.com/mobolic/facebook-sdk, https://facebook-sdk.readthedocs.io/en/latest/\n",
    "    \n",
    "2. Tool di Esplorazioni API Graph: https://developers.facebook.com/tools/explorer/145634995501895/#_=_\n",
    "    \n",
    "3. ID Pagina Facebook: http://findmyfbid.com/"
   ]
  },
  {
   "cell_type": "code",
   "execution_count": 4,
   "metadata": {
    "collapsed": false
   },
   "outputs": [],
   "source": [
    "import facebook\n",
    "import os\n",
    "import requests\n",
    "import pandas as pd\n",
    "\n",
    "# Leggo Configuration File\n",
    "config = {}\n",
    "config_path = os.path.join(os.environ['HOME'], 'opendata')\n",
    "config_name = 'config.py'\n",
    "config_file = os.path.join(config_path,config_name)\n",
    "exec(open(config_file).read(),config)\n",
    "token=config['TOKEN_FB']\n",
    "\n",
    "# Utilizzo token generoato manualmente con la mia utenza sul Tool di Esplorazioni API Graph\n",
    "graph = facebook.GraphAPI(access_token=token, version='2.7')"
   ]
  },
  {
   "cell_type": "code",
   "execution_count": 5,
   "metadata": {
    "collapsed": false
   },
   "outputs": [
    {
     "data": {
      "text/plain": [
       "{'id': '10153605453803372', 'name': 'Andrea Cesarini'}"
      ]
     },
     "execution_count": 5,
     "metadata": {},
     "output_type": "execute_result"
    }
   ],
   "source": [
    "# TEST\n",
    "\n",
    "# Esempio di chiamata su Tool Esplorazione: me?fields=id,name -> Result è un Dict (casomai Dataframe Pandas)\n",
    "info = graph.get_object(id='me')\n",
    "info"
   ]
  },
  {
   "cell_type": "code",
   "execution_count": 6,
   "metadata": {
    "collapsed": false
   },
   "outputs": [],
   "source": [
    "# PAGINA FACEBOOK\n",
    "\n",
    "# Recupero ID della Pagina di Salvini (https://www.facebook.com/salviniofficial/?fref=ts) da findmyfbid \n",
    "# Esempio di chiamata: 252306033154?fields=id,name,birthday\n",
    "info_s = graph.get_object(id='252306033154', fields='name,fan_count,posts')"
   ]
  },
  {
   "cell_type": "code",
   "execution_count": 7,
   "metadata": {
    "collapsed": false
   },
   "outputs": [
    {
     "data": {
      "text/plain": [
       "1696884"
      ]
     },
     "execution_count": 7,
     "metadata": {},
     "output_type": "execute_result"
    }
   ],
   "source": [
    "# NUMERO FAN\n",
    "\n",
    "# Recupero il numero di Fan (sono quelli che mettono mi piace, non è detto che siano quelli che lo seguono in\n",
    "# quanto uno mette mi piace anche solo per seguirlo)\n",
    "num_fan = info_s['fan_count']\n",
    "num_fan"
   ]
  },
  {
   "cell_type": "markdown",
   "metadata": {},
   "source": [
    "# 1. Distribuzione likes ai posts in base alla data dei post (aggregati per anno / mese)\n",
    "## Crescita social delle pagine politiche -> In base alla data, legarle ad avvenimenti"
   ]
  },
  {
   "cell_type": "code",
   "execution_count": 8,
   "metadata": {
    "collapsed": false
   },
   "outputs": [
    {
     "data": {
      "text/plain": [
       "16007"
      ]
     },
     "execution_count": 8,
     "metadata": {},
     "output_type": "execute_result"
    }
   ],
   "source": [
    "# Recupero TUTTI i posts sulla pagina di Salvini\n",
    "posts = graph.get_connections(id='252306033154', connection_name='posts')\n",
    "all_posts = {}\n",
    "while(True):\n",
    "    try:\n",
    "        for post in posts['data']:\n",
    "            all_posts[post['id']]=post['created_time']\n",
    "        posts=requests.get(posts['paging']['next']).json()\n",
    "    except KeyError:\n",
    "        break\n",
    "len(all_posts)"
   ]
  },
  {
   "cell_type": "code",
   "execution_count": null,
   "metadata": {
    "collapsed": true
   },
   "outputs": [],
   "source": [
    "#all_posts"
   ]
  },
  {
   "cell_type": "code",
   "execution_count": 9,
   "metadata": {
    "collapsed": false
   },
   "outputs": [],
   "source": [
    "df = pd.DataFrame(list(all_posts.items()), columns=['ID', 'Post_Date'])"
   ]
  },
  {
   "cell_type": "code",
   "execution_count": 10,
   "metadata": {
    "collapsed": false
   },
   "outputs": [
    {
     "data": {
      "text/html": [
       "<div>\n",
       "<table border=\"1\" class=\"dataframe\">\n",
       "  <thead>\n",
       "    <tr style=\"text-align: right;\">\n",
       "      <th></th>\n",
       "      <th>ID</th>\n",
       "      <th>Post_Date</th>\n",
       "    </tr>\n",
       "  </thead>\n",
       "  <tbody>\n",
       "    <tr>\n",
       "      <th>0</th>\n",
       "      <td>252306033154_10151694974523155</td>\n",
       "      <td>2013-09-26T17:54:20+0000</td>\n",
       "    </tr>\n",
       "    <tr>\n",
       "      <th>1</th>\n",
       "      <td>252306033154_10152854711393155</td>\n",
       "      <td>2015-03-29T10:07:10+0000</td>\n",
       "    </tr>\n",
       "    <tr>\n",
       "      <th>2</th>\n",
       "      <td>252306033154_10151493392598155</td>\n",
       "      <td>2013-06-13T08:15:41+0000</td>\n",
       "    </tr>\n",
       "    <tr>\n",
       "      <th>3</th>\n",
       "      <td>252306033154_10151156433468155</td>\n",
       "      <td>2012-12-11T21:57:01+0000</td>\n",
       "    </tr>\n",
       "    <tr>\n",
       "      <th>4</th>\n",
       "      <td>252306033154_10152607210623155</td>\n",
       "      <td>2014-12-21T12:42:02+0000</td>\n",
       "    </tr>\n",
       "  </tbody>\n",
       "</table>\n",
       "</div>"
      ],
      "text/plain": [
       "                               ID                 Post_Date\n",
       "0  252306033154_10151694974523155  2013-09-26T17:54:20+0000\n",
       "1  252306033154_10152854711393155  2015-03-29T10:07:10+0000\n",
       "2  252306033154_10151493392598155  2013-06-13T08:15:41+0000\n",
       "3  252306033154_10151156433468155  2012-12-11T21:57:01+0000\n",
       "4  252306033154_10152607210623155  2014-12-21T12:42:02+0000"
      ]
     },
     "execution_count": 10,
     "metadata": {},
     "output_type": "execute_result"
    }
   ],
   "source": [
    "df.head(5)"
   ]
  },
  {
   "cell_type": "code",
   "execution_count": 12,
   "metadata": {
    "collapsed": false
   },
   "outputs": [],
   "source": [
    "# Salvo il DF per non ripetere la Chiamata\n",
    "dir_df = os.path.join(os.path.abspath(''),'stg')\n",
    "df_filename = r'df_posts.pkl'\n",
    "df_fullpath = os.path.join(dir_df, df_filename)\n",
    "df.to_pickle(df_fullpath)"
   ]
  }
 ],
 "metadata": {
  "anaconda-cloud": {},
  "kernelspec": {
   "display_name": "Python [conda env:opendata]",
   "language": "python",
   "name": "conda-env-opendata-py"
  },
  "language_info": {
   "codemirror_mode": {
    "name": "ipython",
    "version": 3
   },
   "file_extension": ".py",
   "mimetype": "text/x-python",
   "name": "python",
   "nbconvert_exporter": "python",
   "pygments_lexer": "ipython3",
   "version": "3.5.2"
  }
 },
 "nbformat": 4,
 "nbformat_minor": 1
}
