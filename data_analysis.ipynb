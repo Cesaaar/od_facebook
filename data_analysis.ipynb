{
 "cells": [
  {
   "cell_type": "markdown",
   "metadata": {},
   "source": [
    "### Analisi Dati Facebook\n",
    "\n",
    "1. pip install facebook-sdk: https://github.com/mobolic/facebook-sdk, https://facebook-sdk.readthedocs.io/en/latest/\n",
    "    \n",
    "2. Tool di Esplorazioni API Graph: https://developers.facebook.com/tools/explorer/145634995501895/#_=_\n",
    "    \n",
    "3. ID Pagina Facebook: http://findmyfbid.com/"
   ]
  },
  {
   "cell_type": "code",
   "execution_count": 2,
   "metadata": {
    "collapsed": false
   },
   "outputs": [],
   "source": [
    "import facebook\n",
    "import os\n",
    "\n",
    "# Leggo Configuration File\n",
    "config = {}\n",
    "config_path = os.path.join(os.environ['HOME'], 'opendata')\n",
    "config_name = 'config.py'\n",
    "config_file = os.path.join(config_path,config_name)\n",
    "exec(open(config_file).read(),config)\n",
    "token=config['TOKEN_FB']\n",
    "\n",
    "# Utilizzo token generoato manualmente con la mia utenza sul Tool di Esplorazioni API Graph\n",
    "graph = facebook.GraphAPI(access_token=token, version='2.7')"
   ]
  },
  {
   "cell_type": "code",
   "execution_count": 3,
   "metadata": {
    "collapsed": false
   },
   "outputs": [
    {
     "name": "stdout",
     "output_type": "stream",
     "text": [
      "{'name': 'Andrea Cesarini', 'id': '10153605453803372'}\n"
     ]
    }
   ],
   "source": [
    "# Esempio di chiamata su Tool Esplorazione: me?fields=id,name\n",
    "info = graph.get_object(id='me')\n",
    "print(info)"
   ]
  },
  {
   "cell_type": "code",
   "execution_count": 4,
   "metadata": {
    "collapsed": false
   },
   "outputs": [
    {
     "name": "stdout",
     "output_type": "stream",
     "text": [
      "{'name': 'Matteo Salvini', 'id': '252306033154', 'birthday': '03/09/1973'}\n"
     ]
    }
   ],
   "source": [
    "# Recupero ID della Pagina di Salvini (https://www.facebook.com/salviniofficial/?fref=ts) da findmyfbid \n",
    "# Esempio di chiamata: 252306033154?fields=id,name,birthday\n",
    "info_s = graph.get_object(id='252306033154', fields='id,name,birthday')\n",
    "print(info_s)"
   ]
  }
 ],
 "metadata": {
  "anaconda-cloud": {},
  "kernelspec": {
   "display_name": "Python [conda env:opendata]",
   "language": "python",
   "name": "conda-env-opendata-py"
  },
  "language_info": {
   "codemirror_mode": {
    "name": "ipython",
    "version": 3
   },
   "file_extension": ".py",
   "mimetype": "text/x-python",
   "name": "python",
   "nbconvert_exporter": "python",
   "pygments_lexer": "ipython3",
   "version": "3.5.2"
  }
 },
 "nbformat": 4,
 "nbformat_minor": 1
}
