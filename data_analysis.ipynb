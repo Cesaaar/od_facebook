{
 "cells": [
  {
   "cell_type": "markdown",
   "metadata": {},
   "source": [
    "### Analisi Dati Facebook\n",
    "\n",
    "1. pip install facebook-sdk: https://github.com/mobolic/facebook-sdk, https://facebook-sdk.readthedocs.io/en/latest/\n",
    "    \n",
    "2. Tool di Esplorazioni API Graph: https://developers.facebook.com/tools/explorer/145634995501895/#_=_\n",
    "    \n",
    "3. ID Pagina Facebook: http://findmyfbid.com/"
   ]
  },
  {
   "cell_type": "code",
   "execution_count": 8,
   "metadata": {
    "collapsed": false
   },
   "outputs": [],
   "source": [
    "import facebook\n",
    "\n",
    "# Genero il token manualmente con la mia utenza sul Tool di Esplorazioni API Graph\n",
    "graph = facebook.GraphAPI(access_token='EAACEdEose0cBAMSeVUimgXJk7AFMkkcpRqlY0ImrX7Oh5cDnnvZATU09NYciqZAzht7B2vYgJmlekhAZAYJYZBptAICaZAIKuzZCaSf51Lc5AZCbZBWVI9Or086XHXzQAe7k5yInEtO7jzcVuU2p44dkcSA8ZBiw97p2X3ZC8Y6isHVAZDZD', version='2.7')"
   ]
  },
  {
   "cell_type": "code",
   "execution_count": 9,
   "metadata": {
    "collapsed": false
   },
   "outputs": [
    {
     "name": "stdout",
     "output_type": "stream",
     "text": [
      "{'id': '10153605453803372', 'name': 'Andrea Cesarini'}\n"
     ]
    }
   ],
   "source": [
    "# Esempio di chiamata su Tool Esplorazione: me?fields=id,name\n",
    "info = graph.get_object(id='me')\n",
    "print(info)"
   ]
  },
  {
   "cell_type": "code",
   "execution_count": 12,
   "metadata": {
    "collapsed": false
   },
   "outputs": [
    {
     "name": "stdout",
     "output_type": "stream",
     "text": [
      "{'id': '252306033154', 'name': 'Matteo Salvini', 'birthday': '03/09/1973'}\n"
     ]
    }
   ],
   "source": [
    "# Recupero ID della Pagina di Salvini (https://www.facebook.com/salviniofficial/?fref=ts) da findmyfbid \n",
    "# Esempio di chiamata: 252306033154?fields=id,name,birthday\n",
    "info_s = graph.get_object(id='252306033154', fields='id,name,birthday')\n",
    "print(info_s)"
   ]
  }
 ],
 "metadata": {
  "anaconda-cloud": {},
  "kernelspec": {
   "display_name": "Python [conda env:opendata]",
   "language": "python",
   "name": "conda-env-opendata-py"
  },
  "language_info": {
   "codemirror_mode": {
    "name": "ipython",
    "version": 3
   },
   "file_extension": ".py",
   "mimetype": "text/x-python",
   "name": "python",
   "nbconvert_exporter": "python",
   "pygments_lexer": "ipython3",
   "version": "3.5.2"
  }
 },
 "nbformat": 4,
 "nbformat_minor": 1
}
